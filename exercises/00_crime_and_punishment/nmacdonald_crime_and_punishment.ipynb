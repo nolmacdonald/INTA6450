{
 "cells": [
  {
   "cell_type": "markdown",
   "metadata": {},
   "source": [
    "# Crime and Punishment Exercise\n",
    "\n",
    "**AUTHOR: Nolan MacDonald**\n",
    "\n",
    "## Prompt\n",
    "\n",
    "- You should make changes and tweaks to the code to explore how it works.  Use this opportunity to explore how Python works or delve deeper into NLTK or another library\n",
    "- Write a few sentences describing one extension or attempted extension you made to the code. The code change description should be one paragraph that details what changes were made and should be between 100 and 150 words. You may post the change description as a comment at the beginning of your code, or submit the write-up in a separate document.  Make sure you denote in the code submission where the changes occurred by commenting out code change areas, highlighting changes, or referring to the command lines in your description. \n",
    "\n",
    "You will submit the following:\n",
    "\n",
    "Original code output (Jupyter notebook code and output from that code)\n",
    "Your code change and output from that code change\n",
    "Your code change description (this should be between 100 to 150 words)\n",
    "An example of what the change description should look like:\n",
    "\n",
    "```\n",
    "# CHANGE DESCRIPTION\n",
    "# 100-150 words on the changes I’ve made, including a reference to which initial command I’ve changed >\n",
    "# END OF CHANGE DESCRIPTION\n",
    "```\n",
    "\n",
    "To submit the Jupyter notebook code and output, download it from Jupyter as either a PDF or HTML document, and then upload this into Canvas. You can convert the notebook to PDF by <File>then<download as pdf. >or download via Latex as PDF\">.  In your submission, please note as clearly as possible for the grader exactly what you've changed. \n",
    "\n",
    "*Files must be in one of the following formats: pdf, doc, txt, html\n",
    "\n",
    "## Solution\n",
    "\n",
    "To determine the quantity of unique words, tokenize the text first with `word_tokenize()`.\n",
    "Next, I used a `set` to identify the unique words by using the tokens.\n",
    "The `set` makes it easy because a set is created from the tokens to filter out duplicates, \n",
    "allowing for the count of unique words to be displayed.\n",
    "This was a relatively simple way to do it compared to the solutions.\n",
    "My answer was not exactly the same as the solution (11,159 vs. solution of 11,252 unique words), but it was close.\n",
    "\n",
    "Next, I used `nltk` frequency distribution to record how many times a word was used.\n",
    "Using the tokens, it showed the words as well as punctuation like commas and periods. A plot was created to get a visualization of the frequency of the most common words using `matplotlib`. The common words were typically \"the\", \"and\", \"to\" and not necessarily unique.\n",
    "To expand upon this,  I converted the tokens to lowercase and filtered non-alphabetic tokens so there was no punctuation.\n",
    "Next, I used `nltk.corpus` and `stopwords` for stopword removal.\n",
    "This removed common words like \"the\" and \"and\" that appeared frequently.\n",
    "Identifying the most common words after stopword removal resulted in much more unique words such as \"raskolnikov\" (most common), \"one\" and \"would\". Again, a word frequency plot for visualization was created with `matplotlib`.\n",
    "\n",
    "Cells below show the examples as well as my solutions. I put markdown cells to describe my process as well as put `nltk` documentation links.\n"
   ]
  },
  {
   "cell_type": "markdown",
   "metadata": {},
   "source": [
    "## Import Modules"
   ]
  },
  {
   "cell_type": "code",
   "execution_count": 2,
   "metadata": {},
   "outputs": [
    {
     "name": "stderr",
     "output_type": "stream",
     "text": [
      "[nltk_data] Downloading package punkt_tab to nltk_data...\n",
      "[nltk_data]   Package punkt_tab is already up-to-date!\n",
      "[nltk_data] Downloading package words to nltk_data...\n",
      "[nltk_data]   Package words is already up-to-date!\n",
      "[nltk_data] Downloading collection 'book'\n",
      "[nltk_data]    | \n",
      "[nltk_data]    | Downloading package abc to nltk_data...\n",
      "[nltk_data]    |   Package abc is already up-to-date!\n",
      "[nltk_data]    | Downloading package brown to nltk_data...\n",
      "[nltk_data]    |   Package brown is already up-to-date!\n",
      "[nltk_data]    | Downloading package chat80 to nltk_data...\n",
      "[nltk_data]    |   Package chat80 is already up-to-date!\n",
      "[nltk_data]    | Downloading package cmudict to nltk_data...\n",
      "[nltk_data]    |   Package cmudict is already up-to-date!\n",
      "[nltk_data]    | Downloading package conll2000 to nltk_data...\n",
      "[nltk_data]    |   Package conll2000 is already up-to-date!\n",
      "[nltk_data]    | Downloading package conll2002 to nltk_data...\n",
      "[nltk_data]    |   Package conll2002 is already up-to-date!\n",
      "[nltk_data]    | Downloading package dependency_treebank to\n",
      "[nltk_data]    |     nltk_data...\n",
      "[nltk_data]    |   Package dependency_treebank is already up-to-date!\n",
      "[nltk_data]    | Downloading package genesis to nltk_data...\n",
      "[nltk_data]    |   Package genesis is already up-to-date!\n",
      "[nltk_data]    | Downloading package gutenberg to nltk_data...\n",
      "[nltk_data]    |   Package gutenberg is already up-to-date!\n",
      "[nltk_data]    | Downloading package ieer to nltk_data...\n",
      "[nltk_data]    |   Package ieer is already up-to-date!\n",
      "[nltk_data]    | Downloading package inaugural to nltk_data...\n",
      "[nltk_data]    |   Package inaugural is already up-to-date!\n",
      "[nltk_data]    | Downloading package movie_reviews to nltk_data...\n",
      "[nltk_data]    |   Package movie_reviews is already up-to-date!\n",
      "[nltk_data]    | Downloading package nps_chat to nltk_data...\n",
      "[nltk_data]    |   Package nps_chat is already up-to-date!\n",
      "[nltk_data]    | Downloading package names to nltk_data...\n",
      "[nltk_data]    |   Package names is already up-to-date!\n",
      "[nltk_data]    | Downloading package ppattach to nltk_data...\n",
      "[nltk_data]    |   Package ppattach is already up-to-date!\n",
      "[nltk_data]    | Downloading package reuters to nltk_data...\n",
      "[nltk_data]    |   Package reuters is already up-to-date!\n",
      "[nltk_data]    | Downloading package senseval to nltk_data...\n",
      "[nltk_data]    |   Package senseval is already up-to-date!\n",
      "[nltk_data]    | Downloading package state_union to nltk_data...\n",
      "[nltk_data]    |   Package state_union is already up-to-date!\n",
      "[nltk_data]    | Downloading package stopwords to nltk_data...\n",
      "[nltk_data]    |   Package stopwords is already up-to-date!\n",
      "[nltk_data]    | Downloading package swadesh to nltk_data...\n",
      "[nltk_data]    |   Package swadesh is already up-to-date!\n",
      "[nltk_data]    | Downloading package timit to nltk_data...\n",
      "[nltk_data]    |   Package timit is already up-to-date!\n",
      "[nltk_data]    | Downloading package treebank to nltk_data...\n",
      "[nltk_data]    |   Package treebank is already up-to-date!\n",
      "[nltk_data]    | Downloading package toolbox to nltk_data...\n",
      "[nltk_data]    |   Package toolbox is already up-to-date!\n",
      "[nltk_data]    | Downloading package udhr to nltk_data...\n",
      "[nltk_data]    |   Package udhr is already up-to-date!\n",
      "[nltk_data]    | Downloading package udhr2 to nltk_data...\n",
      "[nltk_data]    |   Package udhr2 is already up-to-date!\n",
      "[nltk_data]    | Downloading package unicode_samples to nltk_data...\n",
      "[nltk_data]    |   Package unicode_samples is already up-to-date!\n",
      "[nltk_data]    | Downloading package webtext to nltk_data...\n",
      "[nltk_data]    |   Package webtext is already up-to-date!\n",
      "[nltk_data]    | Downloading package wordnet to nltk_data...\n",
      "[nltk_data]    |   Package wordnet is already up-to-date!\n",
      "[nltk_data]    | Downloading package wordnet_ic to nltk_data...\n",
      "[nltk_data]    |   Package wordnet_ic is already up-to-date!\n",
      "[nltk_data]    | Downloading package words to nltk_data...\n",
      "[nltk_data]    |   Package words is already up-to-date!\n",
      "[nltk_data]    | Downloading package maxent_treebank_pos_tagger to\n",
      "[nltk_data]    |     nltk_data...\n",
      "[nltk_data]    |   Package maxent_treebank_pos_tagger is already up-\n",
      "[nltk_data]    |       to-date!\n",
      "[nltk_data]    | Downloading package maxent_ne_chunker to nltk_data...\n",
      "[nltk_data]    |   Package maxent_ne_chunker is already up-to-date!\n",
      "[nltk_data]    | Downloading package universal_tagset to nltk_data...\n",
      "[nltk_data]    |   Package universal_tagset is already up-to-date!\n",
      "[nltk_data]    | Downloading package punkt to nltk_data...\n",
      "[nltk_data]    |   Package punkt is already up-to-date!\n",
      "[nltk_data]    | Downloading package book_grammars to nltk_data...\n",
      "[nltk_data]    |   Package book_grammars is already up-to-date!\n",
      "[nltk_data]    | Downloading package city_database to nltk_data...\n",
      "[nltk_data]    |   Package city_database is already up-to-date!\n",
      "[nltk_data]    | Downloading package tagsets to nltk_data...\n",
      "[nltk_data]    |   Package tagsets is already up-to-date!\n",
      "[nltk_data]    | Downloading package panlex_swadesh to nltk_data...\n",
      "[nltk_data]    |   Package panlex_swadesh is already up-to-date!\n",
      "[nltk_data]    | Downloading package averaged_perceptron_tagger to\n",
      "[nltk_data]    |     nltk_data...\n",
      "[nltk_data]    |   Package averaged_perceptron_tagger is already up-\n",
      "[nltk_data]    |       to-date!\n",
      "[nltk_data]    | \n",
      "[nltk_data]  Done downloading collection book\n",
      "[nltk_data] Downloading package stopwords to nltk_data...\n",
      "[nltk_data]   Package stopwords is already up-to-date!\n"
     ]
    },
    {
     "data": {
      "text/plain": [
       "True"
      ]
     },
     "execution_count": 2,
     "metadata": {},
     "output_type": "execute_result"
    }
   ],
   "source": [
    "from bs4 import BeautifulSoup\n",
    "import nltk\n",
    "import requests\n",
    "import matplotlib.pyplot as plt\n",
    "from nltk.corpus import stopwords\n",
    "nltk_data_dir = \"/Users/nmacdonald/projects/INTA6450/crime-and-punishment/nltk_data/\"\n",
    "nltk.data.path.append(nltk_data_dir)\n",
    "nltk.download(\"punkt_tab\", download_dir=\"nltk_data\")\n",
    "nltk.download(\"words\", download_dir=\"nltk_data\")\n",
    "nltk.download(\"book\", download_dir=\"nltk_data\")\n",
    "nltk.download(\"stopwords\", download_dir=\"nltk_data\")"
   ]
  },
  {
   "cell_type": "markdown",
   "metadata": {},
   "source": [
    "# Crime and Punishment"
   ]
  },
  {
   "cell_type": "markdown",
   "metadata": {},
   "source": [
    "## Download"
   ]
  },
  {
   "cell_type": "markdown",
   "metadata": {},
   "source": [
    "I refined the code so a step-by-step approach is taken to obtaining the text.\n",
    "\n",
    "- URL is separated into a string\n",
    "- Use the URL to request fetching the text from the URL\n",
    "- Utilize the response to properly convert to text\n",
    "- Next, I print out the first 100 characters. Since I am using a more recent version of Python, I can use f-strings to query my code inside of a string\n",
    "- After, I print the length of the text again using f-strings\n",
    "- Using the text, I tokenize the words with `nltk.word_tokenize()`\n",
    "- Confirm by printing the first 10 tokens"
   ]
  },
  {
   "cell_type": "code",
   "execution_count": 3,
   "metadata": {},
   "outputs": [
    {
     "name": "stdout",
     "output_type": "stream",
     "text": [
      "\n",
      "The first 100 characters of Crime and Punishment include: \n",
      "ï»¿The Project Gutenberg EBook of Crime and Punishment, by Fyodor Dostoevsky\n",
      "\n",
      "This eBook is for th\n",
      "\n",
      "Length of text: 1177120\n",
      "\n",
      "The first 10 tokens include:\n",
      "['ï', '»', '¿The', 'Project', 'Gutenberg', 'EBook', 'of', 'Crime', 'and', 'Punishment']\n"
     ]
    }
   ],
   "source": [
    "url = \"http://inta.gatech.s3.amazonaws.com/crime_and_punishment.txt\"\n",
    "response = requests.get(url)\n",
    "\n",
    "text = response.text\n",
    "\n",
    "# Here are the first 100 characters of Project Gutenberg's crime and punishment\n",
    "print(f\"\\nThe first 100 characters of Crime and Punishment include: \\n{text[0:100]}\")\n",
    "print(f\"\\nLength of text: {len(text)}\")\n",
    "\n",
    "tokens = nltk.word_tokenize(text)\n",
    "\n",
    "print(f\"\\nThe first 10 tokens include:\\n{tokens[:10]}\")"
   ]
  },
  {
   "cell_type": "markdown",
   "metadata": {},
   "source": [
    "Create an NLTK text object, in case you want to use some of the nltk.text functions.\n",
    "\n",
    "[NLTK Documentation](http://www.nltk.org/api/nltk.html#module-nltk.text)"
   ]
  },
  {
   "cell_type": "code",
   "execution_count": 4,
   "metadata": {},
   "outputs": [
    {
     "name": "stdout",
     "output_type": "stream",
     "text": [
      "¿The\n"
     ]
    }
   ],
   "source": [
    "text = nltk.Text(tokens)\n",
    "# Create an NLTK text object, in case you want to use some of the nltk.text functions\n",
    "# http://www.nltk.org/api/nltk.html#module-nltk.text\n",
    "print(text[2])"
   ]
  },
  {
   "cell_type": "markdown",
   "metadata": {},
   "source": [
    "# Unique Words\n",
    "\n",
    "How many unique words are there in Crime and Punishment?\n",
    "\n",
    "See the example below for reference.\n",
    "\n",
    "My own code is listed under Solution."
   ]
  },
  {
   "cell_type": "markdown",
   "metadata": {},
   "source": [
    "## Example"
   ]
  },
  {
   "cell_type": "code",
   "execution_count": 5,
   "metadata": {},
   "outputs": [
    {
     "name": "stdout",
     "output_type": "stream",
     "text": [
      "['A', 'a', 'aa', 'aal', 'aalii', 'aam', 'Aani', 'aardvark', 'aardwolf', 'Aaron', 'Aaronic', 'Aaronical', 'Aaronite', 'Aaronitic', 'Aaru']\n",
      "['a', 'a', 'aa', 'aal', 'aalii', 'aam', 'aani', 'aardvark', 'aardwolf', 'aaron', 'aaronic', 'aaronical', 'aaronite', 'aaronitic', 'aaru']\n"
     ]
    }
   ],
   "source": [
    "# To figure out how many of these words are English words, we need an english dictionary.\n",
    "# One is included with nltk, available as a list below:\n",
    "english = nltk.corpus.words.words(\"en\")\n",
    "\n",
    "print(english[0:15])\n",
    "# load an english dictionary (i.e. list of english words) from nltk\n",
    "\n",
    "english = [w.lower() for w in english]\n",
    "# Then make sure all words are lowercase - so we would accept 'aaron' as a word, no matter the capitalization\n",
    "\n",
    "print(english[0:15])"
   ]
  },
  {
   "cell_type": "code",
   "execution_count": 6,
   "metadata": {},
   "outputs": [],
   "source": [
    "es = set(english)\n",
    "ws = set(tokens)\n",
    "# create python sets out of the dictionary and tokens, in case you want to use python set operations\n",
    "# https://docs.python.org/2/library/sets.html"
   ]
  },
  {
   "cell_type": "markdown",
   "metadata": {},
   "source": [
    "## Solution"
   ]
  },
  {
   "cell_type": "markdown",
   "metadata": {},
   "source": [
    "To determine the quantity of unique words, tokenize the text first with `word_tokenize()`.\n",
    "Next, I used a `set` to identify the unique words by using the tokens.\n",
    "The `set` makes it easy because a set is created from the tokens to filter out duplicates, \n",
    "allowing for the count of unique words to be displayed.\n",
    "This was a relatively simple way to do it compared to the solutions.\n",
    "My answer was not exactly the same, but it was close.\n"
   ]
  },
  {
   "cell_type": "code",
   "execution_count": 7,
   "metadata": {},
   "outputs": [
    {
     "name": "stdout",
     "output_type": "stream",
     "text": [
      "\n",
      "Number of unique words: 11159\n"
     ]
    }
   ],
   "source": [
    "# Call the downloaded book text first in case the variable was overwritten\n",
    "text = response.text\n",
    "\n",
    "# Tokenize the text\n",
    "tokens = nltk.word_tokenize(text)\n",
    "\n",
    "# Determine the number of unique words\n",
    "unique_words = set(tokens)\n",
    "print(f\"\\nNumber of unique words: {len(unique_words)}\")"
   ]
  },
  {
   "cell_type": "markdown",
   "metadata": {},
   "source": [
    "## Freqency of Words\n",
    "\n",
    "How many times were the most common words used?\n",
    "\n",
    "- Used `nltk` frequency distribution to record how many times a word was used\n",
    "    - [FreqDist Documentation](https://www.nltk.org/api/nltk.probability.html#nltk.probability.FreqDist)\n",
    "- Using the tokens, it showed the words as well as punctuation like commas and periods. A plot was created to get a visualization of the frequency of the most common words using `matplotlib`.\n",
    "- To remove the punctuation, I used `nltk.corpus` and `stopwords` for stopword removal. This removed common words like \"the\" and \"and\" that appeared frequently.\n",
    "- Identifying the most common words after stopword removal resulted in much more unique words such as \"raskolnikov\" (most common), \"one\" and \"would\". Again, a word frequency plot for visualization was created with `matplotlib`."
   ]
  },
  {
   "cell_type": "code",
   "execution_count": 8,
   "metadata": {},
   "outputs": [
    {
     "name": "stdout",
     "output_type": "stream",
     "text": [
      "Most common words: [(',', 16176), ('.', 9854), ('the', 7431), ('and', 6279), ('to', 5276), ('a', 4469), ('I', 4399), (\"''\", 4192), ('of', 3847), ('``', 3739), ('he', 3524), ('you', 3500), ('in', 3097), ('that', 3065), ('it', 2941), ('was', 2834), ('!', 2364), ('?', 2275), ('his', 1999), ('at', 1945)]\n"
     ]
    }
   ],
   "source": [
    "# Frequency distribution of words\n",
    "# Tokenize the text\n",
    "tokens = nltk.word_tokenize(text)\n",
    "frequency = nltk.FreqDist(tokens)\n",
    "# Get the 20 most common words\n",
    "common = frequency.most_common(20)\n",
    "print(f\"Most common words: {common}\")"
   ]
  },
  {
   "cell_type": "code",
   "execution_count": 10,
   "metadata": {},
   "outputs": [
    {
     "data": {
      "image/png": "[encoded data removed]",
      "text/plain": [
       "<Figure size 640x480 with 1 Axes>"
      ]
     },
     "metadata": {},
     "output_type": "display_data"
    }
   ],
   "source": [
    "# Plot the frequency distribution of the 20 most common words\n",
    "frequency.plot(20, cumulative=False)\n",
    "plt.show()"
   ]
  },
  {
   "cell_type": "code",
   "execution_count": 17,
   "metadata": {},
   "outputs": [
    {
     "name": "stdout",
     "output_type": "stream",
     "text": [
      "Most common words: [('raskolnikov', 784), ('one', 642), ('would', 615), ('could', 541), ('know', 530), ('said', 519), ('man', 479), ('come', 477), ('like', 451), ('though', 445), ('sonia', 402), ('see', 386), ('time', 384), ('go', 366), ('went', 356), ('razumihin', 347), ('even', 340), ('dounia', 323), ('well', 322), ('must', 316)]\n"
     ]
    }
   ],
   "source": [
    "# Get the list of English stopwords\n",
    "stop_words = set(stopwords.words(\"english\"))\n",
    "\n",
    "# Get the words from the text by tokenizing\n",
    "tokens = nltk.word_tokenize(text)\n",
    "\n",
    "# Convert to lowercase and filter non-alphabetic tokens\n",
    "words = [word.lower() for word in tokens if word.isalpha()]\n",
    "\n",
    "# Filter out stopwords from the tokenized words\n",
    "filtered_words = [word for word in words if word not in stop_words]\n",
    "\n",
    "# Check frequency distribution after removing stopwords\n",
    "frequency_filtered = nltk.FreqDist(filtered_words)\n",
    "common_filtered = frequency_filtered.most_common(20)\n",
    "print(f\"Most common words: {common_filtered}\")"
   ]
  },
  {
   "cell_type": "code",
   "execution_count": 18,
   "metadata": {},
   "outputs": [
    {
     "data": {
      "text/plain": [
       "<Axes: xlabel='Samples', ylabel='Counts'>"
      ]
     },
     "execution_count": 18,
     "metadata": {},
     "output_type": "execute_result"
    },
    {
     "data": {
      "image/png": "[encoded data removed]",
      "text/plain": [
       "<Figure size 640x480 with 1 Axes>"
      ]
     },
     "metadata": {},
     "output_type": "display_data"
    }
   ],
   "source": [
    "# Plot the filtered words with stopwords\n",
    "frequency_filtered.plot(20, cumulative=False)"
   ]
  },
  {
   "cell_type": "code",
   "execution_count": null,
   "metadata": {},
   "outputs": [],
   "source": []
  }
 ],
 "metadata": {
  "kernelspec": {
   "display_name": "inta6450",
   "language": "python",
   "name": "python3"
  },
  "language_info": {
   "codemirror_mode": {
    "name": "ipython",
    "version": 3
   },
   "file_extension": ".py",
   "mimetype": "text/x-python",
   "name": "python",
   "nbconvert_exporter": "python",
   "pygments_lexer": "ipython3",
   "version": "3.12.6"
  }
 },
 "nbformat": 4,
 "nbformat_minor": 2
}
